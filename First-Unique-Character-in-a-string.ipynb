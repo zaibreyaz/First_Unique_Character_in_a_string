{
 "cells": [
  {
   "cell_type": "code",
   "execution_count": 11,
   "id": "c5c6c2c7-a6c7-46b2-894f-0a9a2f85351f",
   "metadata": {},
   "outputs": [
    {
     "name": "stdout",
     "output_type": "stream",
     "text": [
      "{'a': 2, 'b': 2}\n"
     ]
    },
    {
     "data": {
      "text/plain": [
       "-1"
      ]
     },
     "execution_count": 11,
     "metadata": {},
     "output_type": "execute_result"
    }
   ],
   "source": [
    "s = 'aabb'\n",
    "\n",
    "def First_Unique_Character_in_a_string(s):\n",
    "    alphabets = {}\n",
    "    for i in s:\n",
    "        if i not in alphabets:\n",
    "            alphabets[i] = 1\n",
    "        else:\n",
    "            alphabets[i] += 1\n",
    "    unique_character = '1548745156489784615364897+/8465136489748651364897/+486513'\n",
    "    for key,value in alphabets.items():\n",
    "        if value == 1:\n",
    "            unique_character = key\n",
    "            break\n",
    "    for i in range(len(s)):\n",
    "        if s[i] == unique_character:\n",
    "            return i\n",
    "    return -1\n",
    "    \n",
    "First_Unique_Character_in_a_string(s)"
   ]
  },
  {
   "cell_type": "code",
   "execution_count": null,
   "id": "90bbe51a-448a-4ee3-9fff-e177158410cb",
   "metadata": {},
   "outputs": [],
   "source": []
  }
 ],
 "metadata": {
  "kernelspec": {
   "display_name": "Python 3 (ipykernel)",
   "language": "python",
   "name": "python3"
  },
  "language_info": {
   "codemirror_mode": {
    "name": "ipython",
    "version": 3
   },
   "file_extension": ".py",
   "mimetype": "text/x-python",
   "name": "python",
   "nbconvert_exporter": "python",
   "pygments_lexer": "ipython3",
   "version": "3.10.8"
  }
 },
 "nbformat": 4,
 "nbformat_minor": 5
}
